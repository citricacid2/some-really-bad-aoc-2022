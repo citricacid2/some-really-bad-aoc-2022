{
 "cells": [
  {
   "cell_type": "code",
   "execution_count": 5,
   "metadata": {},
   "outputs": [
    {
     "name": "stdout",
     "output_type": "stream",
     "text": [
      "71023\n"
     ]
    }
   ],
   "source": [
    "with open('input.txt') as f:\n",
    "    highest_cal = 0\n",
    "    current_cal = 0\n",
    "    for line in f:\n",
    "        if line == \"\\n\":\n",
    "            highest_cal = max(highest_cal, current_cal)\n",
    "            current_cal = 0\n",
    "        else:\n",
    "            current_cal += int(line)\n",
    "    print(highest_cal)\n"
   ]
  },
  {
   "cell_type": "code",
   "execution_count": 8,
   "metadata": {},
   "outputs": [
    {
     "name": "stdout",
     "output_type": "stream",
     "text": [
      "206289\n"
     ]
    }
   ],
   "source": [
    "with open('input.txt') as f:\n",
    "    cal_list = []\n",
    "    current_cal = 0\n",
    "    for line in f:\n",
    "        if line == \"\\n\":\n",
    "            cal_list.append(current_cal)\n",
    "            current_cal = 0\n",
    "        else:\n",
    "            current_cal += int(line)\n",
    "    cal_list.sort(reverse=True)\n",
    "    print(cal_list[0] + cal_list[1] + cal_list[2])\n",
    "    # print(cal_list)\n"
   ]
  },
  {
   "cell_type": "code",
   "execution_count": null,
   "metadata": {},
   "outputs": [],
   "source": []
  }
 ],
 "metadata": {
  "kernelspec": {
   "display_name": "Python 3.10.8 64-bit",
   "language": "python",
   "name": "python3"
  },
  "language_info": {
   "codemirror_mode": {
    "name": "ipython",
    "version": 3
   },
   "file_extension": ".py",
   "mimetype": "text/x-python",
   "name": "python",
   "nbconvert_exporter": "python",
   "pygments_lexer": "ipython3",
   "version": "3.10.8"
  },
  "orig_nbformat": 4,
  "vscode": {
   "interpreter": {
    "hash": "b0fa6594d8f4cbf19f97940f81e996739fb7646882a419484c72d19e05852a7e"
   }
  }
 },
 "nbformat": 4,
 "nbformat_minor": 2
}
